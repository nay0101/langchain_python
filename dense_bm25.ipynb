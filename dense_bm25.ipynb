{
 "cells": [
  {
   "cell_type": "markdown",
   "metadata": {},
   "source": [
    "Load API Keys"
   ]
  },
  {
   "cell_type": "code",
   "execution_count": 1,
   "metadata": {},
   "outputs": [
    {
     "data": {
      "text/plain": [
       "True"
      ]
     },
     "execution_count": 1,
     "metadata": {},
     "output_type": "execute_result"
    }
   ],
   "source": [
    "from dotenv import load_dotenv\n",
    "load_dotenv()"
   ]
  },
  {
   "cell_type": "markdown",
   "metadata": {},
   "source": [
    "Load Contents from Brillar Bank"
   ]
  },
  {
   "cell_type": "code",
   "execution_count": 2,
   "metadata": {},
   "outputs": [
    {
     "name": "stderr",
     "output_type": "stream",
     "text": [
      "USER_AGENT environment variable not set, consider setting it to identify your requests.\n",
      "d:\\Code\\langchain_python\\virtualenv\\Lib\\site-packages\\tqdm\\auto.py:21: TqdmWarning: IProgress not found. Please update jupyter and ipywidgets. See https://ipywidgets.readthedocs.io/en/stable/user_install.html\n",
      "  from .autonotebook import tqdm as notebook_tqdm\n"
     ]
    }
   ],
   "source": [
    "from langchain_community.document_loaders import WebBaseLoader\n",
    "from helpers.test_data import get_urls\n",
    "\n",
    "loader = WebBaseLoader(get_urls())\n",
    "\n",
    "data = loader.load()"
   ]
  },
  {
   "cell_type": "markdown",
   "metadata": {},
   "source": [
    "Split the Loaded Data into Chunks"
   ]
  },
  {
   "cell_type": "code",
   "execution_count": 3,
   "metadata": {},
   "outputs": [],
   "source": [
    "from langchain_text_splitters import RecursiveCharacterTextSplitter\n",
    "\n",
    "text_splitter = RecursiveCharacterTextSplitter(chunk_size=2000, chunk_overlap=20)\n",
    "texts = text_splitter.split_documents(data)"
   ]
  },
  {
   "cell_type": "markdown",
   "metadata": {},
   "source": [
    "Get Embedding Model"
   ]
  },
  {
   "cell_type": "code",
   "execution_count": 4,
   "metadata": {},
   "outputs": [],
   "source": [
    "from langchain_openai import OpenAIEmbeddings\n",
    "\n",
    "embedding = OpenAIEmbeddings(model=\"text-embedding-3-large\", dimensions=256)"
   ]
  },
  {
   "cell_type": "markdown",
   "metadata": {},
   "source": [
    "Instantiate Elasticsearch Store"
   ]
  },
  {
   "cell_type": "code",
   "execution_count": 5,
   "metadata": {},
   "outputs": [],
   "source": [
    "from langchain_elasticsearch import ElasticsearchStore, DenseVectorStrategy, BM25Strategy\n",
    "import os\n",
    "\n",
    "es_cloud_id = os.getenv(\"ELASTIC_CLOUD_ID\")\n",
    "es_api_key = os.getenv(\"ELASTIC_API_KEY\")\n",
    "\n",
    "\n",
    "vector_store = ElasticsearchStore.from_documents(\n",
    "    documents=texts,\n",
    "    es_cloud_id=es_cloud_id,\n",
    "    es_api_key=es_api_key,\n",
    "    index_name=\"hybrid_search1\",\n",
    "    embedding=embedding,\n",
    "    strategy=DenseVectorStrategy(hybrid=True),\n",
    ")\n"
   ]
  },
  {
   "cell_type": "markdown",
   "metadata": {},
   "source": [
    "Get LLM"
   ]
  },
  {
   "cell_type": "code",
   "execution_count": 6,
   "metadata": {},
   "outputs": [],
   "source": [
    "from langchain_openai import ChatOpenAI\n",
    "\n",
    "llm = ChatOpenAI(model=\"gpt-4o\")"
   ]
  },
  {
   "cell_type": "markdown",
   "metadata": {},
   "source": [
    "Get Retriever"
   ]
  },
  {
   "cell_type": "code",
   "execution_count": 7,
   "metadata": {},
   "outputs": [],
   "source": [
    "retriever = vector_store.as_retriever(search_kwargs={\"k\": 5})"
   ]
  },
  {
   "cell_type": "markdown",
   "metadata": {},
   "source": [
    "Create Chain"
   ]
  },
  {
   "cell_type": "code",
   "execution_count": 8,
   "metadata": {},
   "outputs": [],
   "source": [
    "from helpers.conversation_retrieval_chain import create_conversational_retrieval_chain\n",
    "\n",
    "chain = create_conversational_retrieval_chain(llm, retriever)"
   ]
  },
  {
   "cell_type": "markdown",
   "metadata": {},
   "source": [
    "Invoke Chain"
   ]
  },
  {
   "cell_type": "code",
   "execution_count": 9,
   "metadata": {},
   "outputs": [
    {
     "name": "stdout",
     "output_type": "stream",
     "text": [
      "Tell me what is Brillar bank?\n",
      "Brillar Bank is a financial institution dedicated to helping customers achieve financial success through savings, investments, and expert advice. It offers various types of fixed deposit accounts, including Flexi Fixed Deposit, e-Fixed Deposit, and Foreign Currency Fixed Deposit, with attractive interest rates and flexible terms. Brillar Bank is a member of PIDM and ensures protection for depositors up to RM250,000.\n",
      "\n",
      "How many types of fixed deposit does Brillar Bank provide?\n",
      "Brillar Bank provides six types of fixed deposits: Fixed Deposit, Senior Savers Flexi Fixed Deposit, e-Fixed Deposit, Junior Fixed Deposit, Flexi Fixed Deposit, and Foreign Currency Fixed Deposit.\n",
      "\n",
      "What are the interest rates for fixed deposit?\n",
      "The interest rates for fixed deposits at Brillar Bank are as follows:\n",
      "\n",
      "- 1 month: 2.15%\n",
      "- 2 - 3 months: 2.25%\n",
      "- 4 - 5 months: 2.30%\n",
      "- 6 months: 2.30%\n",
      "- 7 - 11 months: 2.35%\n",
      "- 12 - 60 months: 2.35%\n",
      "\n",
      "What are the interest rates for e-fixed deposit?\n",
      "The interest rates for Brillar Bank's e-fixed deposit are as follows:\n",
      "\n",
      "- 1 month: 1.85%\n",
      "- 2 months: 2.25%\n",
      "- 3 months: 2.25%\n",
      "- 4 months: 2.30%\n",
      "- 5 months: 2.30%\n",
      "- 6 months: 2.30%\n",
      "- 7 months: 2.35%\n",
      "- 8 months: 2.35%\n",
      "- 9 months: 2.35%\n",
      "- 10 months: 2.35%\n",
      "- 11 months: 2.35%\n",
      "- 12 months: 2.35%\n",
      "- 13 - 60 months: 2.35%\n",
      "\n",
      "What are the interest rates for flexi-fixed deposit?\n",
      "The interest rate for the Brillar Flexi Fixed Deposit for a 12-month tenure is 2.50%.\n",
      "\n",
      "What are the interest rates for junior fixed deposit?\n",
      "The specific interest rates for the Junior Fixed Deposit at Brillar Bank are not provided in the available context. It mentions that the account offers attractive interest rates calculated daily, but for detailed rates, you would need to contact the bank directly or visit their website.\n",
      "\n",
      "What is the difference between Fixed Deposit and eFixed Deposit?\n",
      "The primary differences between Fixed Deposit and eFixed Deposit at Brillar Bank are in the management and accessibility of the accounts. Fixed Deposit accounts can be managed and withdrawn from any branch nationwide, while eFixed Deposit accounts are managed entirely online through Brillar Bank Online. Additionally, eFixed Deposit provides the convenience of making new placements and withdrawals anytime via the online platform.\n",
      "\n"
     ]
    }
   ],
   "source": [
    "from helpers.conversation_retrieval_chain import invoke_conversational_retrieval_chain\n",
    "from helpers.test_data import get_questions\n",
    "\n",
    "questions = get_questions()\n",
    "for question in questions:\n",
    "  result = invoke_conversational_retrieval_chain(chain, question)\n",
    "  print(f'{question}\\n{result[\"answer\"]}\\n')"
   ]
  }
 ],
 "metadata": {
  "kernelspec": {
   "display_name": "venv",
   "language": "python",
   "name": "python3"
  },
  "language_info": {
   "codemirror_mode": {
    "name": "ipython",
    "version": 3
   },
   "file_extension": ".py",
   "mimetype": "text/x-python",
   "name": "python",
   "nbconvert_exporter": "python",
   "pygments_lexer": "ipython3",
   "version": "3.11.7"
  }
 },
 "nbformat": 4,
 "nbformat_minor": 2
}
