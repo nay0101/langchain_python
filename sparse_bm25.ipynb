{
 "cells": [
  {
   "cell_type": "markdown",
   "metadata": {},
   "source": [
    "Load API Keys"
   ]
  },
  {
   "cell_type": "code",
   "execution_count": 1,
   "metadata": {},
   "outputs": [
    {
     "data": {
      "text/plain": [
       "True"
      ]
     },
     "execution_count": 1,
     "metadata": {},
     "output_type": "execute_result"
    }
   ],
   "source": [
    "from dotenv import load_dotenv\n",
    "load_dotenv()"
   ]
  },
  {
   "cell_type": "markdown",
   "metadata": {},
   "source": [
    "Load Contents from Brillar Bank"
   ]
  },
  {
   "cell_type": "code",
   "execution_count": 2,
   "metadata": {},
   "outputs": [
    {
     "name": "stderr",
     "output_type": "stream",
     "text": [
      "USER_AGENT environment variable not set, consider setting it to identify your requests.\n"
     ]
    }
   ],
   "source": [
    "from langchain_community.document_loaders import WebBaseLoader\n",
    "from helpers.test_data import get_urls\n",
    "\n",
    "loader = WebBaseLoader(get_urls())\n",
    "\n",
    "data = loader.load()"
   ]
  },
  {
   "cell_type": "markdown",
   "metadata": {},
   "source": [
    "Split the Loaded Data into Chunks"
   ]
  },
  {
   "cell_type": "code",
   "execution_count": 3,
   "metadata": {},
   "outputs": [],
   "source": [
    "from langchain_text_splitters import RecursiveCharacterTextSplitter\n",
    "\n",
    "text_splitter = RecursiveCharacterTextSplitter(chunk_size=2000, chunk_overlap=20)\n",
    "texts = text_splitter.split_documents(data)"
   ]
  },
  {
   "cell_type": "markdown",
   "metadata": {},
   "source": [
    "Get Embedding Model"
   ]
  },
  {
   "cell_type": "code",
   "execution_count": 4,
   "metadata": {},
   "outputs": [],
   "source": [
    "from langchain_openai import OpenAIEmbeddings\n",
    "\n",
    "embedding = OpenAIEmbeddings(model=\"text-embedding-3-large\", dimensions=256)"
   ]
  },
  {
   "cell_type": "markdown",
   "metadata": {},
   "source": [
    "Instantiate Elasticsearch Store"
   ]
  },
  {
   "cell_type": "code",
   "execution_count": 5,
   "metadata": {},
   "outputs": [],
   "source": [
    "from langchain_elasticsearch import ElasticsearchStore, SparseVectorStrategy, BM25Strategy\n",
    "import os\n",
    "\n",
    "es_cloud_id = os.getenv(\"ELASTIC_CLOUD_ID\")\n",
    "es_api_key = os.getenv(\"ELASTIC_API_KEY\")\n",
    "\n",
    "bm25_store = ElasticsearchStore.from_documents(\n",
    "  documents=texts,\n",
    "  es_cloud_id=es_cloud_id,\n",
    "  es_api_key=es_api_key,\n",
    "  index_name=\"bm25_sparse\",\n",
    "  strategy=BM25Strategy()\n",
    ")\n",
    "\n",
    "sparse_vector_store = ElasticsearchStore.from_documents(\n",
    "    documents=texts,\n",
    "    es_cloud_id=es_cloud_id,\n",
    "    es_api_key=es_api_key,\n",
    "    index_name=\"sparse_vector_bm25\",\n",
    "    strategy=SparseVectorStrategy(model_id=\".elser_model_2\"),\n",
    "    bulk_kwargs={\n",
    "      \"request_timeout\": 60\n",
    "    }\n",
    ")"
   ]
  },
  {
   "cell_type": "markdown",
   "metadata": {},
   "source": [
    "Get LLM"
   ]
  },
  {
   "cell_type": "code",
   "execution_count": 6,
   "metadata": {},
   "outputs": [],
   "source": [
    "from langchain_openai import ChatOpenAI\n",
    "\n",
    "llm = ChatOpenAI(model=\"gpt-3.5-turbo\")"
   ]
  },
  {
   "cell_type": "markdown",
   "metadata": {},
   "source": [
    "Get Retriever"
   ]
  },
  {
   "cell_type": "code",
   "execution_count": 7,
   "metadata": {},
   "outputs": [],
   "source": [
    "from langchain.retrievers import EnsembleRetriever\n",
    "\n",
    "bm25_retriever = bm25_store.as_retriever(search_kwargs={\"k\": 5})\n",
    "sparse_retriever = sparse_vector_store.as_retriever(search_kwargs={\"k\": 5})\n",
    "\n",
    "retriever = EnsembleRetriever(retrievers=[bm25_retriever, sparse_retriever])"
   ]
  },
  {
   "cell_type": "markdown",
   "metadata": {},
   "source": [
    "Create Chain"
   ]
  },
  {
   "cell_type": "code",
   "execution_count": 8,
   "metadata": {},
   "outputs": [],
   "source": [
    "from helpers.conversation_retrieval_chain import create_conversational_retrieval_chain, invoke_conversational_retrieval_chain\n",
    "\n",
    "chain = create_conversational_retrieval_chain(llm, retriever)"
   ]
  },
  {
   "cell_type": "markdown",
   "metadata": {},
   "source": [
    "Invoke Chain"
   ]
  },
  {
   "cell_type": "code",
   "execution_count": 9,
   "metadata": {},
   "outputs": [
    {
     "data": {
      "text/plain": [
       "{'input': 'what are the interest rates for fixed deposit?',\n",
       " 'chat_history': [],\n",
       " 'context': [Document(metadata={'source': 'https://win066.wixsite.com/brillar-bank/flexi-fixed-deposit', 'title': 'Flexi Fixed Deposit | Brillar Bank', 'language': 'en'}, page_content='Flexi Fixed Deposit | Brillar Bank\\n\\n\\n\\n\\n\\n\\n\\n\\n\\n\\n\\n\\n\\n\\n\\n\\n\\n\\ntop of pageThis site was designed with the .com website builder. Create your website today.Start NowHomeDepositsMoreUse tab to navigate through the menu items.Available for Registered Users\\xa0 \\xa0 \\xa0 \\xa0Learn More\\xa0\\n\\n\\n\\n\\nFlexi Fixed Deposit @Brillar BankA truly flexible fixed deposit accountBrillar Flexi Fixed Deposit rewards you with attractive interest and auto-sweep facility from Flexi Fixed Deposit to Flexi One Account or vice versa.Get StartedLearn More\\xa0\\n\\n\\n\\n\\nFeatures and BenefitsEarn attractive FD interest for 12-month tenureWhen your Flexi One Account exceeds RM30,000, it will be transferred to your Flexi FD Account to earn attractive FD interest. (Transfers are automatic and done once a month in the multiples of RM30,000).\\n\\nEffective 1 January 2019, no interest shall be payable on partially withdrawn amounts and premature withdrawals of FD.Make an early partial withdrawal and still earn an attractive FD interest on your remaining balanceMake an early partial withdrawal anytime and continue to earn an attractive FD interest on your remaining balance. (Partial withdrawal is in multiples of RM3,000.Interest PayoutReceive interest at maturity.Eligibility\\n\\nFor individuals, either single or in joint names.\\n\\n\\nThe individual must have attained the age of 18 at the point of opening the account\\n\\n\\nNon-residents may open the Flexi FD and Flexi One Account.\\n\\n\\nThe minimum initial deposit is RM10,000 for opening the Flexi FD Account.\\n\\n\\nThe minimum initial deposit is RM10 for opening the Flexi One Account.\\n\\nNo Overdraft Facility is givenTerms and Conditions apply.\\n\\nMember of PIDM. Protected by PIDM up to RM250,000 for each depositor.Other flexible featureComes with a Flexi One Account so you can have the convenience of chequing and savings at high interest rates.'),\n",
       "  Document(metadata={'source': 'https://win066.wixsite.com/brillar-bank/fixed-deposit', 'title': 'Fixed Deposit | Brillar Bank', 'language': 'en'}, page_content='Fixed Deposit | Brillar Bank\\n\\n\\n\\n\\n\\n\\n\\n\\n\\n\\n\\n\\n\\n\\n\\n\\n\\n\\n\\n\\n\\n\\n\\ntop of pageThis site was designed with the .com website builder. Create your website today.Start NowHomeDepositsMoreUse tab to navigate through the menu items.Available for Registered Users\\xa0 \\xa0 \\xa0 \\xa0Learn More\\xa0\\n\\n\\n\\n\\nFixed Deposit @Brillar BankFeatures and BenefitsBrillar Bank Fixed Deposit account is a good start for your long-term savings plan.Get StartedLearn More\\xa0\\n\\n\\n\\n\\nFeatures and BenefitsLong TermA choice of terms from 1 - 60 months.Flexibility of early fixed deposit partial withdrawal without losing interest on remaining balanceInterest PayoutReceive interest at maturity.Convenient WithdrawalYou can withdraw from any branch nationwide.Partial withdrawal is in multiples of RM1,000. Outstanding balances will be shown on the monthly e-statement.\\n\\n\\nEffective 1 January 2019, no interest shall be payable on partially withdrawn amounts and premature withdrawals of FD.Eligibility\\n\\nMinimum deposit of RM5,000 for 1 month placement and RM500 for 2 months and above.\\n\\n\\n·Applicable for individual and non-individual customers.\\n\\n\\nFor Malaysian aged 18 years old & above.\\n\\n\\nFor Malaysian aged below 18 years old, account must be opened as a trust account.\\n\\nTerms and Conditions applyMember of PIDM. Protected by PIDM up to RM250,000 for each depositor.Interest RatesTenureInterest Rates1 month2.15%2 months2.25%3 months2.25%4 months2.30%5 months2.30%6 months2.30%7 months2.35%8 months2.35%9 months2.35%10 months2.35%11 months2.35%12 months2.35%13 - 60 months2.35%Fees and ChargesFees & Charges DescriptionFees / Charges\\n(subject to Government Tax, if applicable)Cheque Related :Dishonoured Inward Return Cheques due to:\\n\\u200b\\n\\n\\nPost-dated reason only\\n\\nRM10.00 per chequeChanges to Account Related :\\n\\nChange to operating mandate\\n\\n\\nAddition of joint accountholder'),\n",
       "  Document(metadata={'language': 'en', 'source': 'https://win066.wixsite.com/brillar-bank/junior-fixed-deposit', 'title': 'Junior Fixed Dep... | Brillar Bank'}, page_content=\"Parent or legal guardian's MyKad/passport.Terms and Conditions applyMember of PIDM. Protected by PIDM up to RM250,000 for each depositor.Interest RatesTenureInterest Rates1 month2.15%2 - 3 months2.25%4 - 5 months2.30%6 months2.30%7 - 11 months2.35%12 - 60 months2.50%Fees and ChargesFees & Charges DescriptionFees / Charges\\n(subject to Government Tax, if applicable)Cheque Related :Dishonoured Inward Return Cheques due to:\\nPost-dated reason onlyRM10.00 per chequeChanges to Account Related :\\n\\nChange to operating mandate\\n\\n\\nAddition of joint accountholder\\n\\nRM10.00 per account\\n\\nRM10.00 per account\\n\\n(No charge for Priority Banking customers)Service Charge Related :Average balance of the Deposit Accounts fall below the minimum amount for 3 consecutive months:\\n\\nDeposit Accounts (Personal Fixed Deposit, Personal Savings and Personal Current Account) : Below RM100,000\\n\\n\\nCombination of Deposit Accounts & Unit Trust (based on outstanding balance) : Below RM200,000\\n\\nRM50.00\\n(No charge for Priority Banking customers with Mortgage Loan that is Personal Brillar Deposit Housing Loan or Shop Loan only)Others :Replacement of lost Fixed Deposit Receipt\\n\\u200b\\nWithdrawal by Banker’s ChequeRM5.00 per receipt and RM10.00 for Letter of Indemnity stamp dutyRM5.00 per cheque. RM0.15 per cheque for stamp duty. Cheque processing fee of RM0.50Awarded by Global MoneyDITITAL SERVICESFixed DepositE Fixed DepositFlexi Fixed DepositSenior Savers Flexi Fixed DepositACCOUNTSCARDSSaving AccountCurrent AccountFixed DepositCredit CardDebit CardCredit Card ServicesOther InformationJunior Fixed DepositForeign Currency Fixed Depositbottom of page\"),\n",
       "  Document(metadata={'source': 'https://win066.wixsite.com/brillar-bank', 'title': 'Home | Brillar Bank', 'language': 'en'}, page_content='Home | Brillar Bank\\n\\n\\n\\n\\n\\n\\n\\n\\n\\n\\n\\n\\n\\n\\n\\n\\n\\n\\n\\n\\n\\n\\n\\n\\ntop of pageThis site was designed with the .com website builder. Create your website today.Start NowHomeDepositsMoreUse tab to navigate through the menu items.The Best Bank, AgainWe are dedicated to your financial success. Whether you are saving for the future, making investments, or seeking expert advice, we are here to guide you every step of the way.Get StartedOur Fixed Deposits\\n\\n\\n\\n\\nFixed DepositEarn attractive interest with fixed tenures of up to 60 monthsLearn More\\n\\n\\n\\n\\n\\n\\n\\n\\n\\n\\nSenior Savers Flexi Fixed DepositAn attractive interest FD account for individuals aged 50 years and aboveLearn More\\n\\n\\n\\n\\n\\n\\n\\n\\n\\n\\ne-Fixed DepositPlace your e-Fixed Deposit online via Brillar OnlineLearn More\\n\\n\\n\\n\\n\\n\\n\\n\\n\\n\\nJunior Fixed DepositAn attractive interest FD account for children below the age of 18.Learn More\\n\\n\\n\\n\\n\\n\\n\\n\\n\\n\\nFlexi Fixed DepositEnjoy the flexibility of making early partial withdrawalsLearn More\\n\\n\\n\\n\\n\\n\\n\\n\\n\\n\\nForeign Currency Fixed DepositA convenient way to invest in foreign currencyLearn More\\n\\n\\n\\n\\n\\nBRILLARBANK DEPOSITJOIN US NOW\\n\\n\\n\\n\\nPhone\\n\\n\\n\\n\\n\\n(65) 6327 2265Mail\\n\\n\\n\\n\\n\\n\\ninfo@brillar.bizDiscover ways to manage your money betterOpen an account wherever you are\\n\\nIf you are on desktop, scan QR above to begin. If you are on mobile, tab here to beginRegister for Brillar Online\\n\\nMake life easier with online and mobile banking on Brillar Online.Join our online community to build the future of banking\\n\\nYour voice, our action. Share your ideas to shape the bank of future with us, and watch them come to life.Your voice matters to us'),\n",
       "  Document(metadata={'language': 'en', 'source': 'https://win066.wixsite.com/brillar-bank/e-fixed-deposit', 'title': 'E  Fixed Deposit | Brillar Bank'}, page_content='E  Fixed Deposit | Brillar Bank\\n\\n\\n\\n\\n\\n\\n\\n\\n\\n\\n\\n\\n\\n\\n\\n\\n\\n\\n\\n\\n\\n\\n\\ntop of pageThis site was designed with the .com website builder. Create your website today.Start NowHomeDepositsMoreUse tab to navigate through the menu items.Available for Registered Users\\xa0 \\xa0 \\xa0 \\xa0Learn More\\xa0\\n\\n\\n\\n\\nE-Fixed Deposit @Brillar BankGet StartedLearn More\\xa0\\n\\n\\n\\n\\nFeatures and BenefitsManage your e-fixed deposits with Brillar Bank OnlineNew placements and withdrawals can be made anytime via Brillar Online.\\n\\nAccount and placement details can be viewed upon successful placement.\\n\\nReceive interest at maturity.\\n\\nOption for auto renewal.\\n\\nFlexibility to make early partial withdrawals from your eFD and still earn eFD interest on remaining balances (Partial withdrawals must be in multiples of RM1,000).\\n\\nEffective 1 January 2019, no interest shall be payable on partially withdrawn amounts and premature withdrawals of eFD.Eligibility\\n\\nMinimum deposit of RM5,000 for 1 month placement and RM500 for 2 months and above.\\n\\n\\nFor individuals with Brillar Deposit Conventional / Islamic Current or Savings Account.\\n\\n\\nMalaysian aged 18 years old and above\\n\\nTerms and Conditions applyMember of PIDM. Protected by PIDM up to RM250,000 for each depositor.Interest RatesTenureInterest Rates1 month1.85%2 months2.25%3 months2.25%4 months2.30%5 months2.30%6 months2.30%7 months2.35%8 months2.35%9 months2.35%10 months2.35%11 months2.35%12 months2.35%13 - 60 months2.35%Fees and ChargesFees & Charges DescriptionFees / Charges\\n(subject to Government Tax, if applicable)Cheque Related :Dishonoured Inward Return Cheques due to:\\nPost-dated reason onlyRM10.00 per chequeChanges to Account Related :\\n\\nChange to operating mandate\\n\\n\\nAddition of joint accountholder\\n\\nRM10.00 per account\\n\\nRM10.00 per account\\n\\n(No charge for Priority Banking customers)Service Charge Related :Average balance of the Deposit Accounts fall below the minimum amount for 3 consecutive months:'),\n",
       "  Document(metadata={'source': 'https://win066.wixsite.com/brillar-bank/senior-savers-flexi-fixed-deposit', 'title': 'Senior Savers Flexi Fixed Deposit | Brillar Bank', 'language': 'en'}, page_content='Senior Savers Flexi Fixed Deposit | Brillar Bank\\n\\n\\n\\n\\n\\n\\n\\n\\n\\n\\n\\n\\n\\n\\n\\n\\n\\n\\ntop of pageThis site was designed with the .com website builder. Create your website today.Start NowHomeDepositsMoreUse tab to navigate through the menu items.Available for Registered Users\\xa0 \\xa0 \\xa0 \\xa0Learn More\\xa0\\n\\n\\n\\n\\nSeniors Savers Flexi Fixed Deposit @Brillar BankA flexible fixed deposit account for golden agerSenior Savers Flexi Fixed Deposit account is designed for individuals aged 50 years and above. It gives attractive interest and allows partial withdrawal anytime without losing your FD interest on account balance.Get StartedLearn More\\xa0\\n\\n\\n\\n\\nFeatures and BenefitsEarn attractive interest, credited at maturity into any Brillar Deposit Savings or Current AccountMonthly consolidated statementFor easy account management.Earn attractive interest than conventional fixed deposits.Flexibility of early fixed deposit partial withdrawal without losing interest on remaining balancePartial withdrawal is in multiples of RM3,000. Outstanding balances will be shown on the monthly e-statement.\\n\\nEffective 1 January 2019, no interest shall be payable on partially withdrawn amounts and premature withdrawals of Senior Savers Flexi FD.Terms and Conditions applyMember of PIDM. Protected by PIDM up to RM250,000 for each depositor.Convenient withdrawalYou can withdraw from any branch nationwide.Eligibility\\n\\nFor Malaysian aged 50 years old and above, single or joint names.\\n\\n\\nMinimum RM10,000 to open the Senior Savers Flexi FD\\n\\nInterest RatesTenureInterest Rates1 month2.15%2 - 3 months2.25%4 - 5 months2.30%6 months2.30%7 - 11 months2.35%12 - 60 months2.50%Fees and ChargesFees & Charges DescriptionFees / Charges\\n(subject to Government Tax, if applicable)Cheque Related :Dishonoured Inward Return Cheques due to:\\nPost-dated reason onlyRM10.00 per chequeChanges to Account Related :\\n\\nChange to operating mandate\\n\\n\\nAddition of joint accountholder\\n\\nRM10.00 per account'),\n",
       "  Document(metadata={'source': 'https://win066.wixsite.com/brillar-bank/junior-fixed-deposit', 'title': 'Junior Fixed Dep... | Brillar Bank', 'language': 'en'}, page_content=\"Junior Fixed Dep... | Brillar Bank\\n\\n\\n\\n\\n\\n\\n\\n\\n\\n\\n\\n\\n\\n\\n\\n\\n\\n\\n\\n\\n\\n\\n\\ntop of pageThis site was designed with the .com website builder. Create your website today.Start NowHomeDepositsMoreUse tab to navigate through the menu items.Available for Registered Users\\xa0 \\xa0 \\xa0 \\xa0Learn More\\xa0\\n\\n\\n\\n\\nJuniors Fixed Deposit @Brillar BankGet StartedLearn More\\xa0\\n\\n\\n\\n\\nFeatures and BenefitsA fixed deposit account for your childJunior Fixed Deposit account is designed for children below the age of 18. It gives attractive interest that’s calculated daily. Fixed deposit placement starts from RM1,000.\\n\\nEarn attractive interest for long-term Junior FD tenures (12 months and above).\\n\\nMinimum RM1,000 FD placement only.\\n\\nInterest calculated daily and paid at maturity into Junior Savings Account.\\n\\nFlexibility to make early partial withdrawals from your FD and still earn FD interest on remaining balance (Partial withdrawal must be in multiples of RM3,000).\\n\\nQuarterly statement on account summary, balances and activities.\\n\\nOption to enrol for standing instruction from Junior Savings Account to Junior FD in multiples of RM1,000 to a maximum of RM5,000.\\n\\nPartial withdrawal available at any branch.\\n\\nEffective 1 January 2019, no interest shall be payable on partially withdrawn amounts and premature withdrawals of Junior Fixed Deposit.Eligibility\\n\\nChildren below 18 years old.\\n\\n\\nApplication must be submitted by parents/legal guardian.\\n\\nHow to ApplyVisit any Brillar Bank branches and bring along:\\n\\nChildren's birth certificate and MyKid.\"),\n",
       "  Document(metadata={'language': 'en', 'source': 'https://win066.wixsite.com/brillar-bank/foreign-currency-fixed-deposit', 'title': 'Foreign Currency Fixed Deposit | Brillar Bank'}, page_content=\"Foreign Currency Fixed Deposit | Brillar Bank\\n\\n\\n\\n\\n\\n\\n\\n\\n\\n\\n\\n\\n\\n\\n\\n\\n\\n\\n\\n\\n\\n\\n\\ntop of pageThis site was designed with the .com website builder. Create your website today.Start NowHomeDepositsMoreUse tab to navigate through the menu items.Available for Registered Users\\xa0 \\xa0 \\xa0 \\xa0Learn More\\xa0\\n\\n\\n\\n\\nForeign Currency Fixed Deposit @Brillar BankAttractive returns on your foreign currency investmentsGet StartedLearn More\\xa0\\n\\n\\n\\n\\nFeatures and BenefitsWide Range of CurrenciesNote: Investing in foreign currencies is subject to exchange rate risk. The Foreign Currency Accounts and its Accountholders are subject to guidelines under the Foreign Exchange Policy Notices ('FEP Notices) and Bank Negara Malaysia.Preferential Forex Conversion RatesMore value from every Ringgit you invest.ReminderThe operations, sources and uses of funds to and from a Foreign Currency Account (“FCA”) shall be governed in accordance with the Investment Foreign Currency Asset (“IFCA”) under the Foreign Exchange Policy Notices ('FEP Notices') issued by Bank Negara Malaysia (“BNM”)Terms and Conditions applyMember of PIDM. Protected by PIDM up to RM250,000 for each depositor.Interest RatesUSD\\n\\n\\n\\n\\nTenureInterest Rates1 Day-1 Week-2 Weeks0.15%3 Weeks0.20%1 Month0.25%2 Months0.40%3 Months0.60%4 Months0.70%5 Months0.80%6 Months0.85%7 Months0.85%8 Months0.85%9 Months0.90%10 Months0.90%11 Months0.90%12 Months0.95%AUD\\n\\n\\n\\n\\nTenureInterest Rates1 Day-1 Week-2 Weeks-3 Weeks-1 Month-2 Months-3 Months0.05%4 Months0.10%5 Months0.15%6 Months0.15%7 Months0.20%8 Months0.20%9 Months0.20%10 Months0.25%11 Months0.25%12 Months0.25%CAD\\n\\n\\n\\n\\nTenureInterest Rates1 Day-1 Week-2 Weeks-3 Weeks-1 Month0.20%2 Months0.25%3 Months0.35%4 Months0.45%5 Months0.55%6 Months0.65%7 Months0.65%8 Months0.65%9 Months0.70%10 Months0.75%11 Months0.75%12 Months0.80%CNY\")],\n",
       " 'answer': 'For the Brillar Bank Fixed Deposit account, the interest rates range from 2.15% for a 1-month tenure to 2.35% for 12 months and beyond. In the case of the Flexi Fixed Deposit account, the interest rate is 2.35% for tenures of 13 to 60 months. The Senior Savers Flexi Fixed Deposit offers interest rates starting from 2.15% for a 1-month tenure to 2.50% for 12 to 60 months.'}"
      ]
     },
     "execution_count": 9,
     "metadata": {},
     "output_type": "execute_result"
    }
   ],
   "source": [
    "question = \"what are the interest rates for fixed deposit?\"\n",
    "result = invoke_conversational_retrieval_chain(chain, question)\n",
    "result"
   ]
  }
 ],
 "metadata": {
  "kernelspec": {
   "display_name": "venv",
   "language": "python",
   "name": "python3"
  },
  "language_info": {
   "codemirror_mode": {
    "name": "ipython",
    "version": 3
   },
   "file_extension": ".py",
   "mimetype": "text/x-python",
   "name": "python",
   "nbconvert_exporter": "python",
   "pygments_lexer": "ipython3",
   "version": "3.11.7"
  }
 },
 "nbformat": 4,
 "nbformat_minor": 2
}
