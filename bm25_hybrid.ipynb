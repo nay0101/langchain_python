{
 "cells": [
  {
   "cell_type": "markdown",
   "metadata": {},
   "source": [
    "Load API Keys"
   ]
  },
  {
   "cell_type": "code",
   "execution_count": 11,
   "metadata": {},
   "outputs": [
    {
     "data": {
      "text/plain": [
       "True"
      ]
     },
     "execution_count": 11,
     "metadata": {},
     "output_type": "execute_result"
    }
   ],
   "source": [
    "from dotenv import load_dotenv\n",
    "load_dotenv()"
   ]
  },
  {
   "cell_type": "markdown",
   "metadata": {},
   "source": [
    "Load Contents from Brillar Bank"
   ]
  },
  {
   "cell_type": "code",
   "execution_count": 12,
   "metadata": {},
   "outputs": [],
   "source": [
    "from langchain_community.document_loaders import WebBaseLoader\n",
    "from helpers.test_data import get_urls\n",
    "\n",
    "loader = WebBaseLoader(get_urls())\n",
    "\n",
    "data = loader.load()"
   ]
  },
  {
   "cell_type": "markdown",
   "metadata": {},
   "source": [
    "Split the Loaded Data into Chunks"
   ]
  },
  {
   "cell_type": "code",
   "execution_count": 13,
   "metadata": {},
   "outputs": [],
   "source": [
    "from langchain_text_splitters import RecursiveCharacterTextSplitter\n",
    "\n",
    "text_splitter = RecursiveCharacterTextSplitter(chunk_size=2000, chunk_overlap=20)\n",
    "texts = text_splitter.split_documents(data)"
   ]
  },
  {
   "cell_type": "markdown",
   "metadata": {},
   "source": [
    "Get Embedding Model"
   ]
  },
  {
   "cell_type": "code",
   "execution_count": 14,
   "metadata": {},
   "outputs": [],
   "source": [
    "from langchain_openai import OpenAIEmbeddings\n",
    "\n",
    "embedding = OpenAIEmbeddings(model=\"text-embedding-3-large\", dimensions=256)"
   ]
  },
  {
   "cell_type": "markdown",
   "metadata": {},
   "source": [
    "Instantiate Elasticsearch Store"
   ]
  },
  {
   "cell_type": "code",
   "execution_count": 15,
   "metadata": {},
   "outputs": [],
   "source": [
    "from langchain_elasticsearch import ElasticsearchStore, BM25Strategy, DenseVectorStrategy\n",
    "import os\n",
    "\n",
    "es_cloud_id = os.getenv(\"ELASTIC_CLOUD_ID\")\n",
    "es_api_key = os.getenv(\"ELASTIC_API_KEY\")\n",
    "\n",
    "dense_vector_store = ElasticsearchStore.from_documents(\n",
    "    documents=texts,\n",
    "    es_cloud_id=es_cloud_id,\n",
    "    es_api_key=es_api_key,\n",
    "    index_name=\"bm25_dense\",\n",
    "    embedding=embedding,\n",
    "    strategy=DenseVectorStrategy()\n",
    ")\n",
    "\n",
    "bm25_store = ElasticsearchStore.from_documents(\n",
    "  documents=texts,\n",
    "  es_cloud_id=es_cloud_id,\n",
    "  es_api_key=es_api_key,\n",
    "  index_name=\"bm25\",\n",
    "  strategy=BM25Strategy()\n",
    ")"
   ]
  },
  {
   "cell_type": "markdown",
   "metadata": {},
   "source": [
    "Get LLM"
   ]
  },
  {
   "cell_type": "code",
   "execution_count": 16,
   "metadata": {},
   "outputs": [],
   "source": [
    "from langchain_openai import ChatOpenAI\n",
    "\n",
    "llm = ChatOpenAI(model=\"gpt-4o\")"
   ]
  },
  {
   "cell_type": "markdown",
   "metadata": {},
   "source": [
    "Get Retriever"
   ]
  },
  {
   "cell_type": "code",
   "execution_count": 17,
   "metadata": {},
   "outputs": [],
   "source": [
    "from langchain.retrievers import EnsembleRetriever\n",
    "\n",
    "dense_retriever = dense_vector_store.as_retriever(search_kwargs={\"k\": 5})\n",
    "bm25_retriever = bm25_store.as_retriever(search_kwargs={\"k\": 5})\n",
    "\n",
    "retriever = EnsembleRetriever(retrievers=[dense_retriever, bm25_retriever])"
   ]
  },
  {
   "cell_type": "markdown",
   "metadata": {},
   "source": [
    "Create Chain"
   ]
  },
  {
   "cell_type": "code",
   "execution_count": 18,
   "metadata": {},
   "outputs": [],
   "source": [
    "from helpers.conversation_retrieval_chain import create_conversational_retrieval_chain\n",
    "\n",
    "chain = create_conversational_retrieval_chain(llm, retriever)"
   ]
  },
  {
   "cell_type": "markdown",
   "metadata": {},
   "source": [
    "Invoke Chain"
   ]
  },
  {
   "cell_type": "code",
   "execution_count": 19,
   "metadata": {},
   "outputs": [
    {
     "name": "stdout",
     "output_type": "stream",
     "text": [
      "How many types of fixed deposit does Hong Leong Bank provide?\n",
      "Hong Leong Bank provides six types of fixed deposit accounts: Fixed Deposit, e-Fixed Deposit, Flexi Fixed Deposit, Senior Savers Flexi Fixed Deposit, Junior Fixed Deposit, and Foreign Currency Fixed Deposit.\n",
      "\n",
      "What are the interest rates for fixed deposit?\n",
      "The interest rates for fixed deposits are as follows:\n",
      "\n",
      "- 1 month: 2.15% p.a.\n",
      "- 2-3 months: 2.25% p.a.\n",
      "- 4-5 months: 2.30% p.a.\n",
      "- 6 months: 2.30% p.a.\n",
      "- 7-11 months: 2.35% p.a.\n",
      "- 12-60 months: 2.50% p.a.\n",
      "\n",
      "What are the interest rates for e-fixed deposit?\n",
      "The interest rates for Hong Leong Bank's e-fixed deposit are as follows:\n",
      "\n",
      "- 1 month: 1.85% p.a.\n",
      "- 2-3 months: 2.25% p.a.\n",
      "- 4-6 months: 2.30% p.a.\n",
      "- 7-12 months: 2.35% p.a.\n",
      "- 13-60 months: 2.35% p.a.\n",
      "\n",
      "What are the interest rates for flexi-fixed deposit?\n",
      "The interest rates for the Hong Leong Bank Flexi Fixed Deposit are as follows:\n",
      "\n",
      "- 1 month: 2.15% p.a.\n",
      "- 2 - 3 months: 2.25% p.a.\n",
      "- 4 - 5 months: 2.30% p.a.\n",
      "- 6 months: 2.30% p.a.\n",
      "- 7 - 11 months: 2.35% p.a.\n",
      "- 12 - 60 months: 2.50% p.a.\n",
      "\n",
      "What are the interest rates for junior fixed deposit?\n",
      "The interest rates for the Junior Fixed Deposit account are:\n",
      "\n",
      "- 1 month: 2.15% p.a.\n",
      "- 2 - 3 months: 2.25% p.a.\n",
      "- 4 - 5 months: 2.30% p.a.\n",
      "- 6 months: 2.30% p.a.\n",
      "- 7 - 11 months: 2.35% p.a.\n",
      "- 12 - 60 months: 2.50% p.a.\n",
      "\n",
      "What is HLB bank?\n",
      "HLB, also known as Hong Leong Bank, is a financial institution that offers a wide range of banking products and services including credit cards, personal loans, bank accounts, insurance, investment, and fixed deposits. The bank operates in multiple regions including Singapore, Hong Kong, Vietnam, and Cambodia. It provides online application options and digital banking solutions through its HLB Connect platform.\n",
      "\n",
      "Which bank do you recommend in Malaysia?\n",
      "I can't make specific recommendations, but Hong Leong Bank offers a wide range of fixed deposit options, including foreign currency fixed deposits, e-fixed deposits, and senior savers flexi FD, with competitive interest rates and protections up to RM250,000 per depositor by PIDM. If you're looking for diverse investment opportunities and security, it may be worth considering.\n",
      "\n",
      "What is the difference between junior fixed deposit and flexi fixed deposit?\n",
      "The Junior Fixed Deposit is designed for children below 18 years old, with a minimum placement of RM1,000 and attractive interest calculated daily and paid at maturity. The Flexi Fixed Deposit, on the other hand, is for individuals aged 18 and above, offers an auto-sweep facility between Flexi FD and Flexi One Account, and requires a minimum deposit of RM10,000. Both accounts allow partial withdrawals in multiples of RM3,000 without losing interest on the remaining balance, but neither pays interest on partially withdrawn amounts or premature withdrawals.\n",
      "\n"
     ]
    }
   ],
   "source": [
    "from helpers.conversation_retrieval_chain import invoke_conversational_retrieval_chain\n",
    "from helpers.test_data import get_questions\n",
    "\n",
    "questions = get_questions()\n",
    "for question in questions:\n",
    "  result = invoke_conversational_retrieval_chain(chain, question)\n",
    "  print(f'{question}\\n{result[\"answer\"]}\\n')"
   ]
  }
 ],
 "metadata": {
  "kernelspec": {
   "display_name": "venv",
   "language": "python",
   "name": "python3"
  },
  "language_info": {
   "codemirror_mode": {
    "name": "ipython",
    "version": 3
   },
   "file_extension": ".py",
   "mimetype": "text/x-python",
   "name": "python",
   "nbconvert_exporter": "python",
   "pygments_lexer": "ipython3",
   "version": "3.11.7"
  }
 },
 "nbformat": 4,
 "nbformat_minor": 2
}
