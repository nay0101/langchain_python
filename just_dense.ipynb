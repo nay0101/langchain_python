{
 "cells": [
  {
   "cell_type": "markdown",
   "metadata": {},
   "source": [
    "Load API Keys"
   ]
  },
  {
   "cell_type": "code",
   "execution_count": 1,
   "metadata": {},
   "outputs": [
    {
     "data": {
      "text/plain": [
       "True"
      ]
     },
     "execution_count": 1,
     "metadata": {},
     "output_type": "execute_result"
    }
   ],
   "source": [
    "from dotenv import load_dotenv\n",
    "load_dotenv()"
   ]
  },
  {
   "cell_type": "markdown",
   "metadata": {},
   "source": [
    "Load Contents from Brillar Bank"
   ]
  },
  {
   "cell_type": "code",
   "execution_count": 2,
   "metadata": {},
   "outputs": [
    {
     "name": "stderr",
     "output_type": "stream",
     "text": [
      "USER_AGENT environment variable not set, consider setting it to identify your requests.\n"
     ]
    }
   ],
   "source": [
    "from langchain_community.document_loaders import WebBaseLoader\n",
    "from helpers.test_data import get_urls\n",
    "\n",
    "loader = WebBaseLoader(get_urls())\n",
    "\n",
    "data = loader.load()"
   ]
  },
  {
   "cell_type": "markdown",
   "metadata": {},
   "source": [
    "Split the Loaded Data into Chunks"
   ]
  },
  {
   "cell_type": "code",
   "execution_count": 3,
   "metadata": {},
   "outputs": [],
   "source": [
    "from langchain_text_splitters import RecursiveCharacterTextSplitter\n",
    "\n",
    "text_splitter = RecursiveCharacterTextSplitter(chunk_size=2000, chunk_overlap=20)\n",
    "texts = text_splitter.split_documents(data)"
   ]
  },
  {
   "cell_type": "markdown",
   "metadata": {},
   "source": [
    "Get Embedding Model"
   ]
  },
  {
   "cell_type": "code",
   "execution_count": 4,
   "metadata": {},
   "outputs": [],
   "source": [
    "from langchain_openai import OpenAIEmbeddings\n",
    "\n",
    "embedding = OpenAIEmbeddings(model=\"text-embedding-3-large\", dimensions=256)"
   ]
  },
  {
   "cell_type": "markdown",
   "metadata": {},
   "source": [
    "Instantiate Elasticsearch Store"
   ]
  },
  {
   "cell_type": "code",
   "execution_count": 5,
   "metadata": {},
   "outputs": [],
   "source": [
    "from langchain_elasticsearch import ElasticsearchStore, DenseVectorStrategy\n",
    "import os\n",
    "\n",
    "es_cloud_id = os.getenv(\"ELASTIC_CLOUD_ID\")\n",
    "es_api_key = os.getenv(\"ELASTIC_API_KEY\")\n",
    "\n",
    "dense_vector_store = ElasticsearchStore.from_documents(\n",
    "    documents=texts,\n",
    "    es_cloud_id=es_cloud_id,\n",
    "    es_api_key=es_api_key,\n",
    "    index_name=\"just_dense_vector\",\n",
    "    embedding=embedding,\n",
    "    strategy=DenseVectorStrategy()\n",
    ")"
   ]
  },
  {
   "cell_type": "markdown",
   "metadata": {},
   "source": [
    "Get LLM"
   ]
  },
  {
   "cell_type": "code",
   "execution_count": 6,
   "metadata": {},
   "outputs": [],
   "source": [
    "from langchain_openai import ChatOpenAI\n",
    "\n",
    "llm = ChatOpenAI(model=\"gpt-4o\")"
   ]
  },
  {
   "cell_type": "markdown",
   "metadata": {},
   "source": [
    "Get Retriever"
   ]
  },
  {
   "cell_type": "code",
   "execution_count": 7,
   "metadata": {},
   "outputs": [],
   "source": [
    "retriever = dense_vector_store.as_retriever(search_kwargs={\"k\": 5})"
   ]
  },
  {
   "cell_type": "markdown",
   "metadata": {},
   "source": [
    "Create Chain"
   ]
  },
  {
   "cell_type": "code",
   "execution_count": 8,
   "metadata": {},
   "outputs": [],
   "source": [
    "from helpers.conversation_retrieval_chain import create_conversational_retrieval_chain\n",
    "\n",
    "chain = create_conversational_retrieval_chain(llm, retriever)"
   ]
  },
  {
   "cell_type": "markdown",
   "metadata": {},
   "source": [
    "Invoke Chain"
   ]
  },
  {
   "cell_type": "code",
   "execution_count": 9,
   "metadata": {},
   "outputs": [
    {
     "name": "stdout",
     "output_type": "stream",
     "text": [
      "How many types of fixed deposit does Hong Leong Bank provide?\n",
      "Hong Leong Bank provides six types of fixed deposit accounts: Fixed Deposit, e-Fixed Deposit, Flexi Fixed Deposit, Senior Savers Flexi Fixed Deposit, Junior Fixed Deposit, and Foreign Currency Fixed Deposit.\n",
      "\n",
      "What are the interest rates for fixed deposit?\n",
      "The interest rates for fixed deposit accounts are as follows:\n",
      "- 1 month: 2.15% p.a.\n",
      "- 2-3 months: 2.25% p.a.\n",
      "- 4-5 months: 2.30% p.a.\n",
      "- 6 months: 2.30% p.a.\n",
      "- 7-11 months: 2.35% p.a.\n",
      "- 12-60 months: 2.50% p.a.\n",
      "\n",
      "What are the interest rates for e-fixed deposit?\n",
      "The interest rates for e-fixed deposits at Hong Leong Bank are as follows:\n",
      "\n",
      "- 1 month: 1.85% p.a.\n",
      "- 2 months: 2.25% p.a.\n",
      "- 3 months: 2.25% p.a.\n",
      "- 4-6 months: 2.30% p.a.\n",
      "- 7-12 months: 2.35% p.a.\n",
      "- 13-60 months: 2.35% p.a.\n",
      "\n",
      "What are the interest rates for flexi-fixed deposit?\n",
      "The interest rate for the Flexi Fixed Deposit with a 12-month tenure is 2.50% per annum.\n",
      "\n",
      "What are the interest rates for junior fixed deposit?\n",
      "The interest rates for the Junior Fixed Deposit are as follows:\n",
      "\n",
      "- 1 month: 2.15% p.a.\n",
      "- 2 - 3 months: 2.25% p.a.\n",
      "- 4 - 5 months: 2.30% p.a.\n",
      "- 6 months: 2.30% p.a.\n",
      "- 7 - 11 months: 2.35% p.a.\n",
      "- 12 - 60 months: 2.50% p.a.\n",
      "\n",
      "What is HLB bank?\n",
      "HLB Bank, also known as Hong Leong Bank, offers a range of financial services including personal and business banking, loans, credit cards, and investment products. It operates in multiple countries including Singapore, Hong Kong, Vietnam, and Cambodia. It is a member of PIDM, which provides deposit protection up to RM250,000 for each depositor.\n",
      "\n",
      "Which bank do you recommend in Malaysia?\n",
      "I don't have personal opinions, but based on the information provided, Hong Leong Bank offers a variety of products including Fixed Deposit Accounts and Foreign Currency Fixed Deposits with competitive interest rates and a range of currency options. Additionally, deposits are protected by PIDM up to RM250,000 for each depositor. You may consider these factors when choosing a bank.\n",
      "\n",
      "What is the difference between junior fixed deposit and flexi fixed deposit?\n",
      "The Junior Fixed Deposit is designed for children below the age of 18 and allows a minimum placement of RM1,000, with interest calculated daily and paid at maturity. In contrast, the Flexi Fixed Deposit is available for individuals aged 18 and above and requires a minimum initial deposit of RM10,000, featuring an auto-sweep facility that transfers excess funds between the Flexi Fixed Deposit and Flexi One Account. Both accounts allow partial withdrawals in multiples of RM3,000, but no interest is payable on partially withdrawn amounts or premature withdrawals effective 1 January 2019.\n",
      "\n"
     ]
    }
   ],
   "source": [
    "from helpers.conversation_retrieval_chain import invoke_conversational_retrieval_chain\n",
    "from helpers.test_data import get_questions\n",
    "\n",
    "questions = get_questions()\n",
    "for question in questions:\n",
    "  result = invoke_conversational_retrieval_chain(chain, question)\n",
    "  print(f'{question}\\n{result[\"answer\"]}\\n')"
   ]
  }
 ],
 "metadata": {
  "kernelspec": {
   "display_name": "venv",
   "language": "python",
   "name": "python3"
  },
  "language_info": {
   "codemirror_mode": {
    "name": "ipython",
    "version": 3
   },
   "file_extension": ".py",
   "mimetype": "text/x-python",
   "name": "python",
   "nbconvert_exporter": "python",
   "pygments_lexer": "ipython3",
   "version": "3.11.7"
  }
 },
 "nbformat": 4,
 "nbformat_minor": 2
}
