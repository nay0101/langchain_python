{
 "cells": [
  {
   "cell_type": "markdown",
   "metadata": {},
   "source": [
    "Load API Keys"
   ]
  },
  {
   "cell_type": "code",
   "execution_count": 1,
   "metadata": {},
   "outputs": [
    {
     "data": {
      "text/plain": [
       "True"
      ]
     },
     "execution_count": 1,
     "metadata": {},
     "output_type": "execute_result"
    }
   ],
   "source": [
    "from dotenv import load_dotenv\n",
    "load_dotenv()"
   ]
  },
  {
   "cell_type": "markdown",
   "metadata": {},
   "source": [
    "Load Contents from Brillar Bank"
   ]
  },
  {
   "cell_type": "code",
   "execution_count": 2,
   "metadata": {},
   "outputs": [
    {
     "name": "stderr",
     "output_type": "stream",
     "text": [
      "USER_AGENT environment variable not set, consider setting it to identify your requests.\n"
     ]
    }
   ],
   "source": [
    "from langchain_community.document_loaders import WebBaseLoader\n",
    "from helpers.test_data import get_urls\n",
    "\n",
    "loader = WebBaseLoader(get_urls())\n",
    "\n",
    "data = loader.load()"
   ]
  },
  {
   "cell_type": "markdown",
   "metadata": {},
   "source": [
    "Split the Loaded Data into Chunks"
   ]
  },
  {
   "cell_type": "code",
   "execution_count": 3,
   "metadata": {},
   "outputs": [],
   "source": [
    "from langchain_text_splitters import RecursiveCharacterTextSplitter\n",
    "\n",
    "text_splitter = RecursiveCharacterTextSplitter(chunk_size=2000, chunk_overlap=20)\n",
    "texts = text_splitter.split_documents(data)"
   ]
  },
  {
   "cell_type": "markdown",
   "metadata": {},
   "source": [
    "Get Embedding Model"
   ]
  },
  {
   "cell_type": "code",
   "execution_count": 4,
   "metadata": {},
   "outputs": [],
   "source": [
    "from langchain_openai import OpenAIEmbeddings\n",
    "\n",
    "embedding = OpenAIEmbeddings(model=\"text-embedding-3-large\", dimensions=256)"
   ]
  },
  {
   "cell_type": "markdown",
   "metadata": {},
   "source": [
    "Instantiate Elasticsearch Store"
   ]
  },
  {
   "cell_type": "code",
   "execution_count": 5,
   "metadata": {},
   "outputs": [],
   "source": [
    "from langchain_elasticsearch import ElasticsearchStore, SparseVectorStrategy, DenseVectorStrategy\n",
    "import os\n",
    "\n",
    "es_cloud_id = os.getenv(\"ELASTIC_CLOUD_ID\")\n",
    "es_api_key = os.getenv(\"ELASTIC_API_KEY\")\n",
    "\n",
    "dense_vector_store = ElasticsearchStore.from_documents(\n",
    "    documents=texts,\n",
    "    es_cloud_id=es_cloud_id,\n",
    "    es_api_key=es_api_key,\n",
    "    index_name=\"dense_vector\",\n",
    "    embedding=embedding,\n",
    "    strategy=DenseVectorStrategy()\n",
    ")\n",
    "\n",
    "sparse_vector_store = ElasticsearchStore.from_documents(\n",
    "    documents=texts,\n",
    "    es_cloud_id=es_cloud_id,\n",
    "    es_api_key=es_api_key,\n",
    "    index_name=\"sparse_vector\",\n",
    "    strategy=SparseVectorStrategy(model_id=\".elser_model_2\"),\n",
    "    bulk_kwargs={\n",
    "      \"request_timeout\": 60\n",
    "    }\n",
    ")"
   ]
  },
  {
   "cell_type": "markdown",
   "metadata": {},
   "source": [
    "Get LLM"
   ]
  },
  {
   "cell_type": "code",
   "execution_count": 6,
   "metadata": {},
   "outputs": [],
   "source": [
    "from langchain_openai import ChatOpenAI\n",
    "\n",
    "llm = ChatOpenAI(model=\"gpt-4o\")"
   ]
  },
  {
   "cell_type": "markdown",
   "metadata": {},
   "source": [
    "Get Retriever"
   ]
  },
  {
   "cell_type": "code",
   "execution_count": 7,
   "metadata": {},
   "outputs": [],
   "source": [
    "from langchain.retrievers import EnsembleRetriever\n",
    "\n",
    "dense_retriever = dense_vector_store.as_retriever(search_kwargs={\"k\": 5})\n",
    "sparse_retriever = sparse_vector_store.as_retriever(search_kwargs={\"k\": 5})\n",
    "\n",
    "retriever = EnsembleRetriever(retrievers=[dense_retriever, sparse_retriever])"
   ]
  },
  {
   "cell_type": "markdown",
   "metadata": {},
   "source": [
    "Create Chain"
   ]
  },
  {
   "cell_type": "code",
   "execution_count": 8,
   "metadata": {},
   "outputs": [],
   "source": [
    "from helpers.conversation_retrieval_chain import create_conversational_retrieval_chain\n",
    "\n",
    "chain = create_conversational_retrieval_chain(llm, retriever)"
   ]
  },
  {
   "cell_type": "markdown",
   "metadata": {},
   "source": [
    "Invoke Chain"
   ]
  },
  {
   "cell_type": "code",
   "execution_count": 9,
   "metadata": {},
   "outputs": [
    {
     "name": "stdout",
     "output_type": "stream",
     "text": [
      "How many types of fixed deposit does Hong Leong Bank provide?\n",
      "Hong Leong Bank provides six types of fixed deposits: Fixed Deposit Account, e-Fixed Deposit, Flexi Fixed Deposit, Senior Savers Flexi Fixed Deposit, Junior Fixed Deposit, and Foreign Currency Fixed Deposit.\n",
      "\n",
      "What are the interest rates for fixed deposit?\n",
      "The interest rates for fixed deposits are as follows:\n",
      "\n",
      "- 1 month: 2.15% p.a.\n",
      "- 2 - 3 months: 2.25% p.a.\n",
      "- 4 - 5 months: 2.30% p.a.\n",
      "- 6 months: 2.30% p.a.\n",
      "- 7 - 11 months: 2.35% p.a.\n",
      "- 12 - 60 months: 2.50% p.a.\n",
      "\n",
      "What are the interest rates for e-fixed deposit?\n",
      "The interest rates for e-fixed deposit with Hong Leong Bank are as follows:\n",
      "\n",
      "- 1 month: 1.85% p.a.\n",
      "- 2 months: 2.25% p.a.\n",
      "- 3 months: 2.25% p.a.\n",
      "- 4-6 months: 2.30% p.a.\n",
      "- 7-12 months: 2.35% p.a.\n",
      "- 13-60 months: 2.35% p.a.\n",
      "\n",
      "What are the interest rates for flexi-fixed deposit?\n",
      "The interest rate for a Flexi Fixed Deposit with a 12-month tenure is 2.50% per annum.\n",
      "\n",
      "What are the interest rates for junior fixed deposit?\n",
      "The interest rates for a Junior Fixed Deposit account are as follows:\n",
      "\n",
      "- 1 month: 2.15% p.a.\n",
      "- 2 - 3 months: 2.25% p.a.\n",
      "- 4 - 5 months: 2.30% p.a.\n",
      "- 6 months: 2.30% p.a.\n",
      "- 7 - 11 months: 2.35% p.a.\n",
      "- 12 - 60 months: 2.50% p.a.\n",
      "\n",
      "What is HLB bank?\n",
      "HLB, or Hong Leong Bank, is a financial institution that offers a variety of banking products and services including fixed deposits, loans, credit cards, and insurance. The bank operates both personal and business banking services and has a presence in multiple countries, including Singapore, Hong Kong, Vietnam, and Cambodia. Additionally, HLB provides digital banking solutions and has a focus on sustainability and corporate social responsibility.\n",
      "\n",
      "Which bank do you recommend in Malaysia?\n",
      "I don't have a specific recommendation for a bank in Malaysia, as the best choice depends on your individual needs and preferences. However, Hong Leong Bank offers a variety of products, including fixed deposits with competitive interest rates and foreign currency fixed deposit options with preferential forex conversion rates. It might be worth considering based on these features.\n",
      "\n",
      "What is the difference between junior fixed deposit and flexi fixed deposit?\n",
      "The Junior Fixed Deposit is designed for children below 18 years old and offers attractive interest calculated daily, with a minimum placement of RM1,000. The Flexi Fixed Deposit, on the other hand, is for individuals aged 18 and above and allows for partial withdrawals without losing interest on the remaining balance, featuring an auto-sweep facility to a linked Flexi One Account. Both accounts have flexible partial withdrawal options but serve different age groups and have different features regarding account management and additional linked services.\n",
      "\n"
     ]
    }
   ],
   "source": [
    "from helpers.conversation_retrieval_chain import invoke_conversational_retrieval_chain\n",
    "from helpers.test_data import get_questions\n",
    "\n",
    "questions = get_questions()\n",
    "for question in questions:\n",
    "  result = invoke_conversational_retrieval_chain(chain, question)\n",
    "  print(f'{question}\\n{result[\"answer\"]}\\n')"
   ]
  }
 ],
 "metadata": {
  "kernelspec": {
   "display_name": "venv",
   "language": "python",
   "name": "python3"
  },
  "language_info": {
   "codemirror_mode": {
    "name": "ipython",
    "version": 3
   },
   "file_extension": ".py",
   "mimetype": "text/x-python",
   "name": "python",
   "nbconvert_exporter": "python",
   "pygments_lexer": "ipython3",
   "version": "3.11.7"
  }
 },
 "nbformat": 4,
 "nbformat_minor": 2
}
