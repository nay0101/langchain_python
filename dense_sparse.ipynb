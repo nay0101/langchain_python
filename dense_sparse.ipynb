{
 "cells": [
  {
   "cell_type": "markdown",
   "metadata": {},
   "source": [
    "Load API Keys"
   ]
  },
  {
   "cell_type": "code",
   "execution_count": 1,
   "metadata": {},
   "outputs": [
    {
     "data": {
      "text/plain": [
       "True"
      ]
     },
     "execution_count": 1,
     "metadata": {},
     "output_type": "execute_result"
    }
   ],
   "source": [
    "from dotenv import load_dotenv\n",
    "load_dotenv()"
   ]
  },
  {
   "cell_type": "markdown",
   "metadata": {},
   "source": [
    "Load Contents from Brillar Bank"
   ]
  },
  {
   "cell_type": "code",
   "execution_count": 2,
   "metadata": {},
   "outputs": [
    {
     "name": "stderr",
     "output_type": "stream",
     "text": [
      "USER_AGENT environment variable not set, consider setting it to identify your requests.\n",
      "d:\\Code\\langchain_python\\virtualenv\\Lib\\site-packages\\tqdm\\auto.py:21: TqdmWarning: IProgress not found. Please update jupyter and ipywidgets. See https://ipywidgets.readthedocs.io/en/stable/user_install.html\n",
      "  from .autonotebook import tqdm as notebook_tqdm\n"
     ]
    }
   ],
   "source": [
    "from langchain_community.document_loaders import WebBaseLoader\n",
    "from helpers.test_data import get_urls\n",
    "\n",
    "loader = WebBaseLoader(get_urls())\n",
    "\n",
    "data = loader.load()"
   ]
  },
  {
   "cell_type": "markdown",
   "metadata": {},
   "source": [
    "Split the Loaded Data into Chunks"
   ]
  },
  {
   "cell_type": "code",
   "execution_count": 3,
   "metadata": {},
   "outputs": [],
   "source": [
    "from langchain_text_splitters import RecursiveCharacterTextSplitter\n",
    "\n",
    "text_splitter = RecursiveCharacterTextSplitter(chunk_size=2000, chunk_overlap=20)\n",
    "texts = text_splitter.split_documents(data)"
   ]
  },
  {
   "cell_type": "markdown",
   "metadata": {},
   "source": [
    "Get Embedding Model"
   ]
  },
  {
   "cell_type": "code",
   "execution_count": 4,
   "metadata": {},
   "outputs": [],
   "source": [
    "from langchain_openai import OpenAIEmbeddings\n",
    "\n",
    "embedding = OpenAIEmbeddings(model=\"text-embedding-3-large\", dimensions=256)"
   ]
  },
  {
   "cell_type": "markdown",
   "metadata": {},
   "source": [
    "Instantiate Elasticsearch Store"
   ]
  },
  {
   "cell_type": "code",
   "execution_count": 5,
   "metadata": {},
   "outputs": [],
   "source": [
    "from langchain_elasticsearch import ElasticsearchStore, SparseVectorStrategy, DenseVectorStrategy\n",
    "import os\n",
    "\n",
    "es_cloud_id = os.getenv(\"ELASTIC_CLOUD_ID\")\n",
    "es_api_key = os.getenv(\"ELASTIC_API_KEY\")\n",
    "\n",
    "dense_vector_store = ElasticsearchStore.from_documents(\n",
    "    documents=texts,\n",
    "    es_cloud_id=es_cloud_id,\n",
    "    es_api_key=es_api_key,\n",
    "    index_name=\"dense_vector\",\n",
    "    embedding=embedding,\n",
    "    strategy=DenseVectorStrategy()\n",
    ")\n",
    "\n",
    "sparse_vector_store = ElasticsearchStore.from_documents(\n",
    "    documents=texts,\n",
    "    es_cloud_id=es_cloud_id,\n",
    "    es_api_key=es_api_key,\n",
    "    index_name=\"sparse_vector\",\n",
    "    strategy=SparseVectorStrategy(model_id=\".elser_model_2\"),\n",
    "    bulk_kwargs={\n",
    "      \"request_timeout\": 60\n",
    "    }\n",
    ")"
   ]
  },
  {
   "cell_type": "markdown",
   "metadata": {},
   "source": [
    "Get LLM"
   ]
  },
  {
   "cell_type": "code",
   "execution_count": 6,
   "metadata": {},
   "outputs": [],
   "source": [
    "from langchain_openai import ChatOpenAI\n",
    "\n",
    "llm = ChatOpenAI(model=\"gpt-4o\")"
   ]
  },
  {
   "cell_type": "markdown",
   "metadata": {},
   "source": [
    "Get Retriever"
   ]
  },
  {
   "cell_type": "code",
   "execution_count": 8,
   "metadata": {},
   "outputs": [],
   "source": [
    "from langchain.retrievers import EnsembleRetriever\n",
    "\n",
    "dense_retriever = dense_vector_store.as_retriever(search_kwargs={\"k\": 5})\n",
    "sparse_retriever = sparse_vector_store.as_retriever(search_kwargs={\"k\": 5})\n",
    "\n",
    "retriever = EnsembleRetriever(retrievers=[dense_retriever, sparse_retriever])"
   ]
  },
  {
   "cell_type": "markdown",
   "metadata": {},
   "source": [
    "Create Chain"
   ]
  },
  {
   "cell_type": "code",
   "execution_count": 9,
   "metadata": {},
   "outputs": [],
   "source": [
    "from helpers.conversation_retrieval_chain import create_conversational_retrieval_chain\n",
    "\n",
    "chain = create_conversational_retrieval_chain(llm, retriever)"
   ]
  },
  {
   "cell_type": "markdown",
   "metadata": {},
   "source": [
    "Invoke Chain"
   ]
  },
  {
   "cell_type": "code",
   "execution_count": 10,
   "metadata": {},
   "outputs": [
    {
     "name": "stdout",
     "output_type": "stream",
     "text": [
      "Tell me what is Brillar bank?\n",
      "Brillar Bank offers a range of financial services and products, including various types of fixed deposit accounts, savings accounts, and investment options. It is dedicated to helping customers manage their finances, save for the future, and make investments. The bank also provides online and mobile banking services to facilitate convenient account management.\n",
      "\n",
      "How many types of fixed deposit does Brillar Bank provide?\n",
      "Brillar Bank provides six types of fixed deposit accounts: Fixed Deposit, Senior Savers Flexi Fixed Deposit, E-Fixed Deposit, Junior Fixed Deposit, Flexi Fixed Deposit, and Foreign Currency Fixed Deposit.\n",
      "\n",
      "What are the interest rates for fixed deposit?\n",
      "The interest rates for fixed deposits at Brillar Bank are as follows:\n",
      "\n",
      "- 1 month: 2.15%\n",
      "- 2 - 3 months: 2.25%\n",
      "- 4 - 5 months: 2.30%\n",
      "- 6 months: 2.30%\n",
      "- 7 - 11 months: 2.35%\n",
      "- 12 - 60 months: 2.35%\n",
      "\n",
      "What are the interest rates for e-fixed deposit?\n",
      "The interest rates for e-fixed deposits at Brillar Bank are as follows:\n",
      "\n",
      "- 1 month: 1.85%\n",
      "- 2 months: 2.25%\n",
      "- 3 months: 2.25%\n",
      "- 4 months: 2.30%\n",
      "- 5 months: 2.30%\n",
      "- 6 months: 2.30%\n",
      "- 7 months: 2.35%\n",
      "- 8 months: 2.35%\n",
      "- 9 months: 2.35%\n",
      "- 10 months: 2.35%\n",
      "- 11 months: 2.35%\n",
      "- 12 months: 2.35%\n",
      "- 13 - 60 months: 2.35%\n",
      "\n",
      "What are the interest rates for flexi-fixed deposit?\n",
      "The interest rate for the Flexi Fixed Deposit at Brillar Bank is 2.50% for a 12-month tenure.\n",
      "\n",
      "What are the interest rates for junior fixed deposit?\n",
      "The interest rates for Junior Fixed Deposit at Brillar Bank are as follows:\n",
      "\n",
      "- 1 month: 2.15%\n",
      "- 2 - 3 months: 2.25%\n",
      "- 4 - 5 months: 2.30%\n",
      "- 6 months: 2.30%\n",
      "- 7 - 11 months: 2.35%\n",
      "- 12 - 60 months: 2.50%\n",
      "\n",
      "What is the difference between Fixed Deposit and eFixed Deposit?\n",
      "The primary differences between Fixed Deposit and eFixed Deposit at Brillar Bank are:\n",
      "\n",
      "1. **Management**: Fixed Deposit accounts are managed through traditional banking channels, whereas eFixed Deposit accounts can be managed online via Brillar Bank Online.\n",
      "2. **Minimum Deposit**: Both have a minimum deposit of RM5,000 for a 1-month term, but the eFixed Deposit can be opened with RM500 for terms of 2 months and above.\n",
      "3. **Interest Rates**: Fixed Deposit offers interest rates ranging from 2.15% to 2.35% depending on the tenure, while eFixed Deposit rates range from 1.85% to 2.35% for the same periods.\n",
      "\n"
     ]
    }
   ],
   "source": [
    "from helpers.conversation_retrieval_chain import invoke_conversational_retrieval_chain\n",
    "from helpers.test_data import get_questions\n",
    "\n",
    "questions = get_questions()\n",
    "for question in questions:\n",
    "  result = invoke_conversational_retrieval_chain(chain, question)\n",
    "  print(f'{question}\\n{result[\"answer\"]}\\n')"
   ]
  }
 ],
 "metadata": {
  "kernelspec": {
   "display_name": "venv",
   "language": "python",
   "name": "python3"
  },
  "language_info": {
   "codemirror_mode": {
    "name": "ipython",
    "version": 3
   },
   "file_extension": ".py",
   "mimetype": "text/x-python",
   "name": "python",
   "nbconvert_exporter": "python",
   "pygments_lexer": "ipython3",
   "version": "3.11.7"
  }
 },
 "nbformat": 4,
 "nbformat_minor": 2
}
