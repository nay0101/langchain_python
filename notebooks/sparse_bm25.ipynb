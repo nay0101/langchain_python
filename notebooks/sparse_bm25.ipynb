{
 "cells": [
  {
   "cell_type": "markdown",
   "metadata": {},
   "source": [
    "Load API Keys"
   ]
  },
  {
   "cell_type": "code",
   "execution_count": 1,
   "metadata": {},
   "outputs": [
    {
     "data": {
      "text/plain": [
       "True"
      ]
     },
     "execution_count": 1,
     "metadata": {},
     "output_type": "execute_result"
    }
   ],
   "source": [
    "from dotenv import load_dotenv\n",
    "load_dotenv()"
   ]
  },
  {
   "cell_type": "markdown",
   "metadata": {},
   "source": [
    "Load Contents from Brillar Bank"
   ]
  },
  {
   "cell_type": "code",
   "execution_count": 2,
   "metadata": {},
   "outputs": [
    {
     "name": "stderr",
     "output_type": "stream",
     "text": [
      "USER_AGENT environment variable not set, consider setting it to identify your requests.\n",
      "d:\\Code\\langchain_python\\virtualenv\\Lib\\site-packages\\tqdm\\auto.py:21: TqdmWarning: IProgress not found. Please update jupyter and ipywidgets. See https://ipywidgets.readthedocs.io/en/stable/user_install.html\n",
      "  from .autonotebook import tqdm as notebook_tqdm\n"
     ]
    }
   ],
   "source": [
    "from langchain_community.document_loaders import WebBaseLoader\n",
    "from helpers.test_data import get_urls\n",
    "\n",
    "loader = WebBaseLoader(get_urls())\n",
    "\n",
    "data = loader.load()"
   ]
  },
  {
   "cell_type": "markdown",
   "metadata": {},
   "source": [
    "Split the Loaded Data into Chunks"
   ]
  },
  {
   "cell_type": "code",
   "execution_count": 3,
   "metadata": {},
   "outputs": [],
   "source": [
    "from langchain_text_splitters import RecursiveCharacterTextSplitter\n",
    "\n",
    "text_splitter = RecursiveCharacterTextSplitter(chunk_size=2000, chunk_overlap=20)\n",
    "texts = text_splitter.split_documents(data)"
   ]
  },
  {
   "cell_type": "markdown",
   "metadata": {},
   "source": [
    "Get Embedding Model"
   ]
  },
  {
   "cell_type": "code",
   "execution_count": 4,
   "metadata": {},
   "outputs": [],
   "source": [
    "from langchain_openai import OpenAIEmbeddings\n",
    "\n",
    "embedding = OpenAIEmbeddings(model=\"text-embedding-3-large\", dimensions=256)"
   ]
  },
  {
   "cell_type": "markdown",
   "metadata": {},
   "source": [
    "Instantiate Elasticsearch Store"
   ]
  },
  {
   "cell_type": "code",
   "execution_count": 5,
   "metadata": {},
   "outputs": [],
   "source": [
    "from langchain_elasticsearch import ElasticsearchStore, SparseVectorStrategy, BM25Strategy\n",
    "import os\n",
    "\n",
    "es_cloud_id = os.getenv(\"ELASTIC_CLOUD_ID\")\n",
    "es_api_key = os.getenv(\"ELASTIC_API_KEY\")\n",
    "\n",
    "\n",
    "index_name = \"bm25_sparse\"\n",
    "sparse_vector_store = ElasticsearchStore.from_documents(\n",
    "    documents=texts,\n",
    "    es_cloud_id=es_cloud_id,\n",
    "    es_api_key=es_api_key,\n",
    "    index_name=index_name,\n",
    "    strategy=SparseVectorStrategy(model_id=\".elser_model_2\"),\n",
    "    bulk_kwargs={\n",
    "      \"request_timeout\": 60\n",
    "    }\n",
    ")"
   ]
  },
  {
   "cell_type": "markdown",
   "metadata": {},
   "source": [
    "Get LLM"
   ]
  },
  {
   "cell_type": "code",
   "execution_count": 6,
   "metadata": {},
   "outputs": [],
   "source": [
    "from langchain_openai import ChatOpenAI\n",
    "\n",
    "llm = ChatOpenAI(model=\"gpt-4o\")"
   ]
  },
  {
   "cell_type": "markdown",
   "metadata": {},
   "source": [
    "Get Retriever"
   ]
  },
  {
   "cell_type": "code",
   "execution_count": 7,
   "metadata": {},
   "outputs": [],
   "source": [
    "from langchain_elasticsearch import ElasticsearchRetriever\n",
    "\n",
    "def hybrid_query(search_query: str):\n",
    "      return {\n",
    "          \"sub_searches\": [\n",
    "            { \n",
    "                \"query\": {\n",
    "                \"match\": {\n",
    "                    \"text\": search_query,\n",
    "                }}\n",
    "            },\n",
    "            {\n",
    "              \"query\": {\n",
    "              \"text_expansion\":{\n",
    "                    \"vector.tokens\": {\n",
    "                    \"model_id\": \".elser_model_2\",\n",
    "                    \"model_text\": search_query\n",
    "                }\n",
    "              }\n",
    "            }}\n",
    "          ],\n",
    "          \n",
    "          \"rank\": {\n",
    "              \"rrf\": {\n",
    "                \"rank_constant\": 60,\n",
    "                \"window_size\": 100\n",
    "              }\n",
    "          },\n",
    "      }\n",
    "\n",
    "retriever = ElasticsearchRetriever.from_es_params(\n",
    "                index_name=index_name,\n",
    "                body_func=hybrid_query,\n",
    "                content_field=\"text\",\n",
    "                api_key=es_api_key,\n",
    "                cloud_id=es_cloud_id,\n",
    "            )"
   ]
  },
  {
   "cell_type": "markdown",
   "metadata": {},
   "source": [
    "Create Chain"
   ]
  },
  {
   "cell_type": "code",
   "execution_count": 8,
   "metadata": {},
   "outputs": [],
   "source": [
    "from helpers.conversation_retrieval_chain import create_conversational_retrieval_chain\n",
    "\n",
    "chain = create_conversational_retrieval_chain(llm, retriever)"
   ]
  },
  {
   "cell_type": "markdown",
   "metadata": {},
   "source": [
    "Invoke Chain"
   ]
  },
  {
   "cell_type": "code",
   "execution_count": 9,
   "metadata": {},
   "outputs": [
    {
     "name": "stdout",
     "output_type": "stream",
     "text": [
      "Tell me what is Brillar bank?\n",
      "Brillar Bank is a financial institution that offers a variety of banking services including fixed deposits, junior fixed deposits, senior savers flexi fixed deposits, e-fixed deposits, and foreign currency fixed deposits. They provide services designed for different customer needs, such as long-term savings plans and flexible withdrawal options. Additionally, Brillar Bank is a member of PIDM, which protects deposits up to RM250,000 for each depositor.\n",
      "\n",
      "How many types of fixed deposit does Brillar Bank provide?\n",
      "Brillar Bank offers six types of fixed deposits: Fixed Deposit, Senior Savers Flexi Fixed Deposit, e-Fixed Deposit, Junior Fixed Deposit, Flexi Fixed Deposit, and Foreign Currency Fixed Deposit.\n",
      "\n",
      "What are the interest rates for fixed deposit?\n",
      "The interest rates for fixed deposits at Brillar Bank are as follows:\n",
      "\n",
      "- 1 month: 2.15%\n",
      "- 2-3 months: 2.25%\n",
      "- 4-5 months: 2.30%\n",
      "- 6 months: 2.30%\n",
      "- 7-11 months: 2.35%\n",
      "- 12-60 months: 2.50%\n",
      "\n",
      "What are the interest rates for e-fixed deposit?\n",
      "The interest rates for e-fixed deposits at Brillar Bank are as follows:\n",
      "\n",
      "- 1 month: 1.85%\n",
      "- 2 months: 2.25%\n",
      "- 3 months: 2.25%\n",
      "- 4 months: 2.30%\n",
      "- 5 months: 2.30%\n",
      "- 6 months: 2.30%\n",
      "- 7 months: 2.35%\n",
      "- 8 months: 2.35%\n",
      "- 9 months: 2.35%\n",
      "- 10 months: 2.35%\n",
      "- 11 months: 2.35%\n",
      "- 12 months: 2.35%\n",
      "- 13 - 60 months: 2.35%\n",
      "\n",
      "What are the interest rates for flexi-fixed deposit?\n",
      "The interest rate for the Flexi Fixed Deposit at Brillar Bank is 2.50% for a 12-month tenure.\n",
      "\n",
      "What are the interest rates for junior fixed deposit?\n",
      "The interest rates for Junior Fixed Deposit are not explicitly mentioned in the provided context. For specific rates, it is best to contact Brillar Bank directly or visit one of their branches for detailed information.\n",
      "\n",
      "What is the difference between Fixed Deposit and eFixed Deposit?\n",
      "The main differences between Fixed Deposit and eFixed Deposit at Brillar Bank include:\n",
      "\n",
      "1. **Management and Access**: eFixed Deposit is managed online via Brillar Bank Online, allowing for new placements and withdrawals anytime, while Fixed Deposit typically involves managing the account through branches.\n",
      "2. **Interest Rates**: For a 1-month tenure, eFixed Deposit offers an interest rate of 1.85%, while Fixed Deposit offers 2.15%.\n",
      "3. **Minimum Deposit**: Both accounts require a minimum deposit of RM5,000 for a 1-month placement and RM500 for 2 months and above. \n",
      "\n",
      "Both allow partial withdrawals in multiples of RM1,000 and do not pay interest on partially withdrawn amounts or premature withdrawals effective from January 1, 2019.\n",
      "\n"
     ]
    }
   ],
   "source": [
    "from helpers.conversation_retrieval_chain import invoke_conversational_retrieval_chain\n",
    "from helpers.test_data import get_questions\n",
    "\n",
    "questions = get_questions()\n",
    "for question in questions:\n",
    "  result = invoke_conversational_retrieval_chain(chain, question)\n",
    "  print(f'{question}\\n{result[\"answer\"]}\\n')"
   ]
  }
 ],
 "metadata": {
  "kernelspec": {
   "display_name": "venv",
   "language": "python",
   "name": "python3"
  },
  "language_info": {
   "codemirror_mode": {
    "name": "ipython",
    "version": 3
   },
   "file_extension": ".py",
   "mimetype": "text/x-python",
   "name": "python",
   "nbconvert_exporter": "python",
   "pygments_lexer": "ipython3",
   "version": "3.11.7"
  }
 },
 "nbformat": 4,
 "nbformat_minor": 2
}
